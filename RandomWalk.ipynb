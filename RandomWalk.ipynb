{
 "cells": [
  {
   "cell_type": "code",
   "execution_count": 3,
   "metadata": {},
   "outputs": [],
   "source": [
    "#Library containing rand() function\n",
    "using Distributions"
   ]
  },
  {
   "cell_type": "code",
   "execution_count": 4,
   "metadata": {},
   "outputs": [
    {
     "data": {
      "text/plain": [
       "f (generic function with 1 method)"
      ]
     },
     "execution_count": 4,
     "metadata": {},
     "output_type": "execute_result"
    }
   ],
   "source": [
    "#example functions to optimize \n",
    "#One Dimension\n",
    "#(x^2 + x) (x0 = -1)\n",
    "#(x^3 + 6 * x^2 - 7) (x0 = -1)\n",
    "#(x^3 +6x^2 + 9x - 3) (x0 = -1,5)\n",
    "#Two Dimmensions\n",
    "#(x^2 + y^2) (P = [-1, -1])\n",
    "\n",
    "function f(p::Vector{Float64})::Float64 \n",
    "    return (p[1]^2 +p[2]^2)\n",
    "end"
   ]
  },
  {
   "cell_type": "code",
   "execution_count": 64,
   "metadata": {},
   "outputs": [
    {
     "data": {
      "text/plain": [
       "randomWalk (generic function with 1 method)"
      ]
     },
     "execution_count": 64,
     "metadata": {},
     "output_type": "execute_result"
    }
   ],
   "source": [
    "#Find minimal value for function f(x)\n",
    "function randomWalk(func::Function, point::Vector{Float64}, dim::Int64, maxIter::Int64, step::Float64, minStep::Float64)\n",
    "    #Step 2 : Find function value in the starting point\n",
    "    functValue = func(point)                   #function value in the start point\n",
    "    nextValue = 0.0                            #next function value \n",
    "    vector = Vector{Float64}(undef, dim)       #shift vector with new point to check\n",
    "    nextPoint = Vector{Float64}(undef, dim)    #next point to check\n",
    "    #Step 3 : Set iteration number to 1\n",
    "    i = 1                                      #loop iterator\n",
    "    \n",
    "    while(step >= minStep)\n",
    "        #Step 4 : Draw a random vector from interval [-1, 1]. Length of the vector should be <= 1\n",
    "        R = 2.0\n",
    "        while (R >= 1.0)\n",
    "            R = 0\n",
    "            for j = 1:dim\n",
    "                vector[j] = rand(Uniform(-1, 1))\n",
    "                R = R + vector[j]^2\n",
    "            end\n",
    "            R = sqrt(R)\n",
    "        end\n",
    "        #Step 5 : Find new point value: Pn+1 = Pn + V*step and find f(p) value in that point\n",
    "        for j = 1:dim\n",
    "            nextPoint[j] = point[j] + vector[j] * step\n",
    "        end\n",
    "        nextValue = func(nextPoint)\n",
    "        #Step 6 : If found value is smaller then privious value assign new values to point and functValue\n",
    "        if (nextValue < functValue)\n",
    "            functValue = nextValue\n",
    "            for j = 1:dim\n",
    "                point[j] = nextPoint[j]\n",
    "            end\n",
    "            #Step 6 -> Step 3 : Set iterator to 1\n",
    "            i = 1\n",
    "        else\n",
    "            #Step 7 : Else If iterator didn`t reached maximal value, increment it\n",
    "            if(i <= maxIter)\n",
    "                i = i + 1\n",
    "            else\n",
    "                #Step 8 : Else calculate new step\n",
    "                step = step / 2\n",
    "            end\n",
    "        end\n",
    "    end\n",
    "    #Print the optimal values\n",
    "    println(\"Optimal point: \")\n",
    "    println(point)\n",
    "    println(\"Optimal value: \")\n",
    "    println(functValue)\n",
    "end"
   ]
  },
  {
   "cell_type": "code",
   "execution_count": 66,
   "metadata": {},
   "outputs": [
    {
     "data": {
      "text/plain": [
       "2-element Array{Float64,1}:\n",
       " -1.0\n",
       " -1.0"
      ]
     },
     "execution_count": 66,
     "metadata": {},
     "output_type": "execute_result"
    }
   ],
   "source": [
    "#Step 1 : Starting values\n",
    "step = sqrt(2)\n",
    "minStep = 0.1\n",
    "maxIter = 10000\n",
    "dim = 2\n",
    "P = [-1.0, -1.0]"
   ]
  },
  {
   "cell_type": "code",
   "execution_count": 67,
   "metadata": {},
   "outputs": [
    {
     "name": "stdout",
     "output_type": "stream",
     "text": [
      "Optimal point: \n",
      "[0.0076579, -0.00218454]\n",
      "Optimal value: \n",
      "6.341557984038263e-5\n"
     ]
    }
   ],
   "source": [
    "randomWalk(f, P, dim, maxIter, step, minStep);"
   ]
  }
 ],
 "metadata": {
  "kernelspec": {
   "display_name": "Julia 1.0.3",
   "language": "julia",
   "name": "julia-1.0"
  },
  "language_info": {
   "file_extension": ".jl",
   "mimetype": "application/julia",
   "name": "julia",
   "version": "1.0.3"
  }
 },
 "nbformat": 4,
 "nbformat_minor": 2
}
